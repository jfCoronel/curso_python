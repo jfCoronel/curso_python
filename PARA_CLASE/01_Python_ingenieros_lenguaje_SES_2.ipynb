{
 "cells": [
  {
   "cell_type": "markdown",
   "metadata": {},
   "source": [
    "__Curso Python (Iniciación a Python para Ingenieros)__\n",
    "\n",
    "_© Juan F. Coronel Toro, 2025_"
   ]
  },
  {
   "cell_type": "markdown",
   "metadata": {},
   "source": [
    "# 1. Lenguaje Python"
   ]
  },
  {
   "cell_type": "markdown",
   "metadata": {},
   "source": [
    "### 1.1. Introducción e instalación\n",
    "[Python](https://fr.wikipedia.org/wiki/Python_(langage)) es un lenguaje de programación muy extendido en la actualidad. Se utiliza en muchos ámbitos diferentes gracias a su versatilidad. \n",
    "\n",
    "Es un lenguaje interpretado, lo que significa que el código no se compila, sino que es *traducido* por un motor Python en tiempo de ejecución."
   ]
  },
  {
   "cell_type": "markdown",
   "metadata": {},
   "source": [
    "#### Instalación\n",
    "\n",
    "Existen muchas formas diferentes de instalar y correr python, usaremos una de la formas más rápidas, a través del software [JupyterLab Desktop](https://github.com/jupyterlab/jupyterlab-desktop).\n",
    "\n",
    "Este programa instala todo lo necesario para poder usar python de forma interactiva a través de los denominados _\"Jupyter Notebooks\"_. \n",
    "\n",
    "Una vez instalado JupyterLab Desktop, cuando arrancamos el programa por primera vez, si no tenemos Python instalado en nuestra máquina, en la parte inferior de la pantalla de Bienvenida aparecerá:\n",
    "\n",
    "\"Python environment not found. Install using bundle installer or Change the default Python environment\" \n",
    "\n",
    "Debemos de hacer click en el enlace ___Install using bundle installer___ para descargar una versión de Python con varias de las librerías más usadas incluidas."
   ]
  },
  {
   "cell_type": "markdown",
   "metadata": {},
   "source": [
    "#### Jupyter notebooks\n",
    "\n",
    "Los documentos de \"Jupyter Notebooks\" contienen celdas de código y de texto. De este modo, los archivos de cuaderno pueden servir como un registro computacional completo de una sesión, intercalando código ejecutable con texto explicativo al que se le puede dar formato a través del uso de _markdown_. Estos documentos se guardan con la extensión `.ipynb`. \n",
    "\n",
    "Los cuadernos son una sucesión de *celdas*, que pueden ser de dos tipos:\n",
    "* `code` para código python\n",
    "* `markdown` para texto en formato Markdown (ver esta [Hoja resumen](https://github.com/adam-p/markdown-here/wiki/Markdown-Cheatsheet))."
   ]
  },
  {
   "cell_type": "markdown",
   "metadata": {},
   "source": [
    "### 1.2. Variables\n",
    "\n",
    "Las variables en python no se declaran, python averigua su tipo en función del valor que le asignemos (tipado dinámico).\n",
    "En python suelen nombrarse las variables en minúscula y usando \"_\" para separar palabras, por ejemplo: `calor_conduccion`\n",
    "\n",
    "### Tipos básicos de variables\n",
    "\n",
    "* Números enteros (int)\n",
    "* Numéros decimales (float)\n",
    "* Booleanos (bool): True ó False\n",
    "* Texto (str): Se escriben entre comillas 'simples' o \"dobles\" \n",
    "\n",
    "Python tiene muchas funciones propias del lenguaje ya disponibles, por ejemplo `print()`o `type()` \n",
    "\n",
    "Los comentarios de una línea se comienzan con `#`\n",
    "\n"
   ]
  },
  {
   "cell_type": "code",
   "execution_count": 1,
   "metadata": {},
   "outputs": [
    {
     "name": "stdout",
     "output_type": "stream",
     "text": [
      "4\n",
      "<class 'int'>\n"
     ]
    }
   ],
   "source": [
    "# Ejemplo de variable int\n",
    "a_1 = 4    \n",
    "print(a_1)\n",
    "print(type(a_1))"
   ]
  },
  {
   "cell_type": "code",
   "execution_count": 2,
   "metadata": {},
   "outputs": [
    {
     "name": "stdout",
     "output_type": "stream",
     "text": [
      "Hola mundo 4.45 True\n",
      "<class 'str'> <class 'float'> <class 'bool'>\n"
     ]
    }
   ],
   "source": [
    "# Ejemplos de variables str, float y bool\n",
    "cadena = \"Hola mundo\"\n",
    "f_1, condicion = 4.45, True\n",
    "print(cadena, f_1, condicion)\n",
    "print(type(cadena), type(f_1), type(condicion))"
   ]
  },
  {
   "cell_type": "markdown",
   "metadata": {},
   "source": [
    "### Operaciones con numeros\n",
    "\n",
    "Las operaciones usuales son\n",
    "* `+, -, * y /`\n",
    "* Elevado `**`\n",
    "* Resto de la división `%`"
   ]
  },
  {
   "cell_type": "code",
   "execution_count": 3,
   "metadata": {},
   "outputs": [
    {
     "name": "stdout",
     "output_type": "stream",
     "text": [
      "75.58823529411765 <class 'float'>\n"
     ]
    }
   ],
   "source": [
    "# Ejemplo de operación con números\n",
    "x = (4 + (2**10)) / (17 - 3.4)\n",
    "print( x, type(x))  "
   ]
  },
  {
   "cell_type": "markdown",
   "metadata": {},
   "source": [
    "### Boolean\n",
    "\n",
    "Boolean es el tipo de una variable `True` o `False` y por lo tanto son extremadamente útiles a la hora de codificar. \n",
    "* Se pueden obtener por comparaciones con `>`, `>=` (mayor, mayor o igual), `<`, `<=` (menor, menor o igual), `==` , `!=` (igual, diferente).\n",
    "* Pueden combinarse mediante las operaciones lógicas `and`, `not`, `or`."
   ]
  },
  {
   "cell_type": "code",
   "execution_count": 4,
   "metadata": {},
   "outputs": [
    {
     "name": "stdout",
     "output_type": "stream",
     "text": [
      "2 > 1 es True\n",
      "2 > 2 es False\n",
      "2 >= 2 es True\n",
      "2 == 2 es True\n",
      "2 == 2.0 es True\n",
      "2 != 1.9 es True\n",
      "False\n",
      "True\n",
      "False\n"
     ]
    }
   ],
   "source": [
    "# Ejemplos de operaciones con Boolean\n",
    "b = 2 > 1\n",
    "print('2 > 1 es', b)   \n",
    "print('2 > 2 es', 2 > 2) \n",
    "print('2 >= 2 es',2 >= 2) \n",
    "print('2 == 2 es',2 == 2) \n",
    "print('2 == 2.0 es',2 == 2.0) \n",
    "print('2 != 1.9 es',2 != 1.9) \n",
    "\n",
    "# Ejemplo de condiciones combinadas\n",
    "x, y = 4, 8 \n",
    "print(x < 6  and y < 6)\n",
    "print(x < 6  or y < 6)\n",
    "print(not x < 6)"
   ]
  },
  {
   "cell_type": "markdown",
   "metadata": {},
   "source": [
    "### Textos (Strings, str)\n",
    "\n",
    "* Deben escribirse entre comillas simples o dobles\n",
    "* Pueden concatenarse con `+`\n"
   ]
  },
  {
   "cell_type": "code",
   "execution_count": 5,
   "metadata": {},
   "outputs": [
    {
     "name": "stdout",
     "output_type": "stream",
     "text": [
      "Hola mundo <class 'str'>\n"
     ]
    }
   ],
   "source": [
    "# Ejemplo de string\n",
    "s = \"Hola mundo\"\n",
    "print(s,type(s))"
   ]
  },
  {
   "cell_type": "code",
   "execution_count": 6,
   "metadata": {},
   "outputs": [
    {
     "name": "stdout",
     "output_type": "stream",
     "text": [
      "Hola mundo aquí estamos\n"
     ]
    }
   ],
   "source": [
    "# Ejemplo concatenación de strings\n",
    "print(s+\" aquí estamos\")"
   ]
  },
  {
   "cell_type": "markdown",
   "metadata": {},
   "source": [
    "### Conversión entre tipos\n",
    "\n",
    "Funciones para convertir tipo: `int(), float(), bool(), str()`\n",
    "\n",
    "F-string: formato de strings que pertime incluir variables: `f\"Variable 1: {var_1} y Variable 2: {var_2}\"`"
   ]
  },
  {
   "cell_type": "code",
   "execution_count": 7,
   "metadata": {},
   "outputs": [
    {
     "name": "stdout",
     "output_type": "stream",
     "text": [
      "número: 42\n",
      "456.67\n"
     ]
    }
   ],
   "source": [
    "# Ejemplos conversión de tipos\n",
    "print( \"número: \"+ str(42) )\n",
    "s = \"456.67\"\n",
    "f = float(s)\n",
    "print (f)"
   ]
  },
  {
   "cell_type": "code",
   "execution_count": 8,
   "metadata": {},
   "outputs": [
    {
     "name": "stdout",
     "output_type": "stream",
     "text": [
      "Variable 1: 27 y Variable 2: 3.16\n"
     ]
    }
   ],
   "source": [
    "# Ejemplo de uso de F-string\n",
    "var_1 = 27\n",
    "var_2 = 3.16\n",
    "s = f\"Variable 1: {var_1} y Variable 2: {var_2}\"\n",
    "print(s)"
   ]
  },
  {
   "cell_type": "markdown",
   "metadata": {},
   "source": [
    "### Tipos de variables avanzadas\n",
    "\n",
    "* Listas\n",
    "* Tuplas\n",
    "* Diccionarios\n",
    "\n",
    "### Listas \n",
    "\n",
    "Una lista es un conjunto de variables agrupadas.\n",
    "\n",
    "* La forma de escribir listas es: `[ ... , ... ]`\n",
    "* Cada uno de los elementos de una lista pueden ser de un tipo diferente\n",
    "* Los índices empiezan en $0$ (`l[0]` es el primer elemento de `l`)\n",
    "* Las listas pueden contener otra lista como elemento\n"
   ]
  },
  {
   "cell_type": "code",
   "execution_count": 9,
   "metadata": {},
   "outputs": [
    {
     "name": "stdout",
     "output_type": "stream",
     "text": [
      "[1, 2, 3, [4, 8], True, 2.3, 'Hola'] <class 'list'>\n"
     ]
    }
   ],
   "source": [
    "# Ejemplo de lista\n",
    "lis = [1, 2, 3, [4,8] , True , 2.3, \"Hola\"]\n",
    "print(lis, type(lis))\n"
   ]
  },
  {
   "cell_type": "markdown",
   "metadata": {},
   "source": [
    "#### Acceso a los elementos de una lista:"
   ]
  },
  {
   "cell_type": "code",
   "execution_count": 10,
   "metadata": {},
   "outputs": [
    {
     "name": "stdout",
     "output_type": "stream",
     "text": [
      "1 <class 'int'>\n",
      "[4, 8] <class 'list'>\n",
      "8 <class 'int'>\n",
      "Hola <class 'str'>\n"
     ]
    }
   ],
   "source": [
    "# Acceso a los elementos de una lista\n",
    "print(lis[0],type(lis[0]))\n",
    "print(lis[3],type(lis[3]))\n",
    "print(lis[3][1],type(lis[3][1]))\n",
    "print(lis[6],type(lis[6]))"
   ]
  },
  {
   "cell_type": "markdown",
   "metadata": {},
   "source": [
    "#### Acceso a un conjunto de datos de una lista (slicing)\n",
    "lista[a:b:c]   \n",
    "- a: inicio (inclido)\n",
    "- b: fin (no incluido)\n",
    "- c: paso\n",
    "\n",
    "el índice -1 hace referencia al último elemento"
   ]
  },
  {
   "cell_type": "code",
   "execution_count": 11,
   "metadata": {},
   "outputs": [
    {
     "name": "stdout",
     "output_type": "stream",
     "text": [
      "[1, 2, 3, [4, 8], True, 2.3, 'Hola']\n",
      "[True, 2.3, 'Hola']\n",
      "[1, 2, 3, [4, 8], True]\n",
      "[True, 2.3]\n",
      "[2, [4, 8], 2.3]\n",
      "['Hola', 2.3, True, [4, 8], 3, 2, 1]\n",
      "Hola\n"
     ]
    }
   ],
   "source": [
    "# Ejemplo de slicing\n",
    "print(lis)\n",
    "print(lis[4:]) # desde la posición 4 (incluida)\n",
    "print(lis[:5]) # hasta la posición 5 (excluida)\n",
    "print(lis[4:6]) # desde 4 (incluida) hasta 6 (excluida) so just 4\n",
    "print(lis[1:6:2])  # desde 1 (incluida) hasta 6 (excluida) de 2 en 2 -> 1,3,5\n",
    "print(lis[::-1]) # en orden inverso\n",
    "print(lis[-1]) # último elemento"
   ]
  },
  {
   "cell_type": "markdown",
   "metadata": {},
   "source": [
    "#### Operaciones con listas \n",
    "\n",
    "podemos añadir (`append`), insertar (`insert`), eliminar (`remove`) y comprobar si elemento pertenece (`in`) a una lista. Para saber el número de elementos de una lista usaremos `len`.\n",
    "\n",
    "_Nota:_ En Jupyter si la última línea es una variable intenta mostrar su valor (más adelante veremos que podría usar formato html)"
   ]
  },
  {
   "cell_type": "code",
   "execution_count": 12,
   "metadata": {},
   "outputs": [
    {
     "data": {
      "text/plain": [
       "[1, 2, 3, [4, 8], True, 2.3, 'Hola', 10]"
      ]
     },
     "execution_count": 12,
     "metadata": {},
     "output_type": "execute_result"
    }
   ],
   "source": [
    "# Añadir un elemnto al final de la lista\n",
    "lis.append(10) \n",
    "lis"
   ]
  },
  {
   "cell_type": "code",
   "execution_count": 13,
   "metadata": {},
   "outputs": [
    {
     "data": {
      "text/plain": [
       "[1, 'u', 2, 3, [4, 8], True, 2.3, 'Hola', 10]"
      ]
     },
     "execution_count": 13,
     "metadata": {},
     "output_type": "execute_result"
    }
   ],
   "source": [
    "# Insertar un elemento en la posición 1 \n",
    "lis.insert(1,'u')\n",
    "lis"
   ]
  },
  {
   "cell_type": "code",
   "execution_count": 14,
   "metadata": {},
   "outputs": [
    {
     "data": {
      "text/plain": [
       "[1, 'u', 2, 3, [4, 8], True, 2.3, 'Hola']"
      ]
     },
     "execution_count": 14,
     "metadata": {},
     "output_type": "execute_result"
    }
   ],
   "source": [
    "# Eliminar el elemento con valor 10 \n",
    "lis.remove(10)\n",
    "lis"
   ]
  },
  {
   "cell_type": "code",
   "execution_count": 15,
   "metadata": {},
   "outputs": [
    {
     "name": "stdout",
     "output_type": "stream",
     "text": [
      "8\n",
      "True\n"
     ]
    }
   ],
   "source": [
    "# Longitud de la lista, y operador in\n",
    "print(len(lis)) # Longitud de la lista\n",
    "print(2 in lis)  # Comprobar si 2 está en la lista"
   ]
  },
  {
   "cell_type": "markdown",
   "metadata": {},
   "source": [
    "#### Copiar listas\n",
    "\n",
    "Si escribimos `lis_2=lis`, *no copiamos* `lis` en `lis_2` unicamente le ponemos otro nombre a la misma lista. Si modificamos una de ellas modificamos también la ota\n",
    "\n",
    "La forma de copiar una lista es usar el método `copy` de las listas o usando slicing "
   ]
  },
  {
   "cell_type": "code",
   "execution_count": 16,
   "metadata": {},
   "outputs": [
    {
     "name": "stdout",
     "output_type": "stream",
     "text": [
      "[1, 'u', 2, 3, [4, 8], True, 2.3, 'Hola', 'Fin']\n",
      "[1, 'u', 2, 3, [4, 8], True, 2.3, 'Hola', 'Fin']\n"
     ]
    }
   ],
   "source": [
    "# Ejemplo de asignación y no copia\n",
    "lis_2 = lis \n",
    "lis.append('Fin')\n",
    "print(lis)\n",
    "print(lis_2)"
   ]
  },
  {
   "cell_type": "code",
   "execution_count": 17,
   "metadata": {},
   "outputs": [
    {
     "name": "stdout",
     "output_type": "stream",
     "text": [
      "[1, 'u', 2, 3, [4, 8], True, 2.3, 'Hola', 'Fin']\n",
      "[1, 'u', 2, 3, [4, 8], True, 2.3, 'Hola']\n"
     ]
    }
   ],
   "source": [
    "# Ejemplo de copia\n",
    "lis_3 = lis.copy()\n",
    "lis_3.remove('Fin')\n",
    "print(lis)\n",
    "print(lis_3)"
   ]
  },
  {
   "cell_type": "markdown",
   "metadata": {},
   "source": [
    "Podemos tener listas sin ningún elemento, concatenar listas usando`+`, or repetir varias veces con `*nº entero` ."
   ]
  },
  {
   "cell_type": "code",
   "execution_count": 18,
   "metadata": {},
   "outputs": [
    {
     "name": "stdout",
     "output_type": "stream",
     "text": [
      "[1, 'u', 2, 3, [4, 8], True, 2.3, 'Hola', 'Fin', 4, 8, 10.9865]\n",
      "[4, 8, 10.9865, 4, 8, 10.9865, 4, 8, 10.9865]\n"
     ]
    }
   ],
   "source": [
    "# Ejemplo de listas vacias y +, * en las listas \n",
    "lis_4 = []\n",
    "lis_5 =[4,8,10.9865]\n",
    "print(lis+lis_5)\n",
    "print(lis_5*3)\n"
   ]
  },
  {
   "cell_type": "markdown",
   "metadata": {},
   "source": [
    "### Tuplas\n",
    "\n",
    "Las Tuplas son similares a las listas pero se crean con `(...,...)` o solo comas. Y no pueden ser cambiadas una vez creadas.\n"
   ]
  },
  {
   "cell_type": "code",
   "execution_count": 19,
   "metadata": {},
   "outputs": [
    {
     "name": "stdout",
     "output_type": "stream",
     "text": [
      "(1, 'b', 876876.908) <class 'tuple'>\n",
      "1\n"
     ]
    }
   ],
   "source": [
    "# Ejemplo de tuplas\n",
    "tup = (1,'b',876876.908)\n",
    "print(tup,type(tup))\n",
    "print(tup[0])\n",
    "\n",
    "# Esto produce un error quitar el comentario para probarlo\n",
    "# tup[1] = 2"
   ]
  },
  {
   "cell_type": "markdown",
   "metadata": {},
   "source": [
    "### Desestructuración de listas y tuplas (destructuring)\n",
    "\n",
    "Permite que las funciones devuelvan múltiples valores"
   ]
  },
  {
   "cell_type": "code",
   "execution_count": 20,
   "metadata": {},
   "outputs": [],
   "source": [
    "# Ejemplo de destructuring\n"
   ]
  },
  {
   "cell_type": "markdown",
   "metadata": {},
   "source": [
    "### Diccionarios\n",
    "\n",
    "Los diccinarios almacenan las variables usando una estructura *clave-valor (key-value)* usando la sintaxis: `{\"key1\" : value1, ...}`\n",
    "\n",
    "Para acceder a los valores usamos la misma forma que con las listas pero con las claves en lugar de índices numéricos.\n"
   ]
  },
  {
   "cell_type": "code",
   "execution_count": 21,
   "metadata": {},
   "outputs": [],
   "source": [
    "# Ejemplo diccionario\n",
    "\n"
   ]
  },
  {
   "cell_type": "code",
   "execution_count": 22,
   "metadata": {},
   "outputs": [],
   "source": [
    "# Ejemplo acceso elementos diccionario\n",
    "\n"
   ]
  },
  {
   "cell_type": "markdown",
   "metadata": {},
   "source": [
    "## 2. CONTROL DE FLUJO\n"
   ]
  },
  {
   "cell_type": "markdown",
   "metadata": {},
   "source": [
    "### If, Elif, Else \n",
    "\n",
    "En Python, la ejecución de diferentes opciones se hace con `if condición:` seguido de un bloque de código indentado que será ejecutado si se cumple la condición\n"
   ]
  },
  {
   "cell_type": "code",
   "execution_count": 23,
   "metadata": {},
   "outputs": [],
   "source": [
    "# Ejemplo if\n"
   ]
  },
  {
   "cell_type": "code",
   "execution_count": 24,
   "metadata": {},
   "outputs": [],
   "source": [
    "# Ejemplo indentación bloques\n"
   ]
  },
  {
   "cell_type": "markdown",
   "metadata": {},
   "source": [
    "### Bucles for\n",
    "\n",
    "La sintaxis para los bucles `for` es `for x in enumerable:` el bloque de código dentro del bucle debe de estar indentado.\n",
    "\n",
    "El elemento `enumerable` que aparece arriba puede ser de distintos tipos: listas, tuplas, dictionarios, etc."
   ]
  },
  {
   "cell_type": "code",
   "execution_count": 25,
   "metadata": {},
   "outputs": [],
   "source": [
    "# Ejemplo for con una lista\n"
   ]
  },
  {
   "cell_type": "markdown",
   "metadata": {},
   "source": [
    "Una función de Python muy usada para los bucles es `range()`. Genera un objeto enumerable (podemos pensar que genera una lista) de números para usar en los bucles"
   ]
  },
  {
   "cell_type": "code",
   "execution_count": 26,
   "metadata": {},
   "outputs": [],
   "source": [
    "# Ejemplos bucles con range\n"
   ]
  },
  {
   "cell_type": "markdown",
   "metadata": {},
   "source": [
    "Para hacer bucle sobre un diccionario se debe usar el método `items()` del diccionario "
   ]
  },
  {
   "cell_type": "code",
   "execution_count": 27,
   "metadata": {},
   "outputs": [],
   "source": [
    "# Ejemplo bucle con diccionario\n"
   ]
  },
  {
   "cell_type": "markdown",
   "metadata": {},
   "source": [
    "### Bucles while\n",
    "Son parecidos a los bucles `for`, pero su sintaxis es `while condicion:` seguido del bucle de código indentado que será ejecutado"
   ]
  },
  {
   "cell_type": "code",
   "execution_count": 28,
   "metadata": {},
   "outputs": [],
   "source": [
    "# Ejemplo bucle while\n"
   ]
  },
  {
   "cell_type": "markdown",
   "metadata": {},
   "source": [
    "## Ejercicio 1:\n",
    "__Diccionarios y bucles__\n",
    "\n",
    "Dada la siguiente descripción de un muro:\n",
    "\n",
    "| Capa | e (cm) | k (W/m·K) |\n",
    "|----------|----------|----------|\n",
    "| Ladrillo visto perforado  | 11.5   | 1.30   |\n",
    "| Poliuretano expandido  | 4.0   | 0.03   |\n",
    "| Ladrillo hueco   | 4.0   | 0.40   |\n",
    "| Enlucido de yeso   | 1.5   | 0.57   |\n",
    "\n",
    "Crear una lista de diccionarios con un diccionario para cada capa.\n",
    "\n",
    "Usando un bucle imprima la descripción de las capas por pantalla.\n",
    "\n",
    "Suponiendo que los h interiores y exteriores son 7 y 25 W/m^2^K respectivamente. calcular U suando un bucle e imprimirlo.\n",
    "\n",
    "$U =  \\frac{1} {(1/h_i) + (1/h_e) + \\Sigma e_i / k_i} $\n"
   ]
  },
  {
   "cell_type": "code",
   "execution_count": 29,
   "metadata": {},
   "outputs": [],
   "source": [
    "# Resolver el ejercicio:\n"
   ]
  },
  {
   "cell_type": "markdown",
   "metadata": {},
   "source": [
    "## 3. Funciones y Clases\n",
    "### Funciones\n",
    "\n",
    "En Python, una función se define con la siguiente sintaxis:  `def nombre_funcion (argumentos):` Seguido del bloque de código indentado que se ejecutará al llamar a la función.\n",
    "\n",
    "Para ejecutar la función escribimos: `nombre_funcion(argumentos)`\n",
    "\n",
    "Un comentario multilínea justo después de la definición usando \"\"\" se llama \"docstring\" y sirve para explicar que hace la función y cuales son sus argumentos"
   ]
  },
  {
   "cell_type": "code",
   "execution_count": 30,
   "metadata": {},
   "outputs": [],
   "source": [
    "# Ejemplo de función que sólo imprime\n"
   ]
  },
  {
   "cell_type": "markdown",
   "metadata": {},
   "source": [
    "### Return\n",
    "\n",
    "`return` devuelve una variable, lista, tupla, dictionario, ..."
   ]
  },
  {
   "cell_type": "code",
   "execution_count": 31,
   "metadata": {},
   "outputs": [],
   "source": [
    "# Ejemplo de función que calcula el cuadrado\n"
   ]
  },
  {
   "cell_type": "code",
   "execution_count": 32,
   "metadata": {},
   "outputs": [],
   "source": [
    "# ejemplo de función que calcula, x, x**2 y x**3\n"
   ]
  },
  {
   "cell_type": "markdown",
   "metadata": {},
   "source": [
    "Cuando una función devuelve una tupla podemos usar la \"desestructuración\" para almacenar los valores en variables simples."
   ]
  },
  {
   "cell_type": "code",
   "execution_count": 33,
   "metadata": {},
   "outputs": [],
   "source": [
    "# Ejemplo de desestructuración con una función\n"
   ]
  },
  {
   "cell_type": "code",
   "execution_count": 34,
   "metadata": {},
   "outputs": [],
   "source": [
    "# Ejemplo de función que devuelve un diccionario\n"
   ]
  },
  {
   "cell_type": "markdown",
   "metadata": {},
   "source": [
    "### Argumentos\n",
    "\n",
    "En Python es posible\n",
    "* Dar los argumentos en cualquier orden si al llamarlos le ponemos su nombre\n",
    "* Establecer un valor por defecto para los argumentos"
   ]
  },
  {
   "cell_type": "code",
   "execution_count": 35,
   "metadata": {},
   "outputs": [],
   "source": [
    "# Ejemplo de función con argumentos nombrados y por defecto\n"
   ]
  },
  {
   "cell_type": "code",
   "execution_count": 36,
   "metadata": {},
   "outputs": [],
   "source": [
    "# Uso de la función anterior\n"
   ]
  },
  {
   "cell_type": "markdown",
   "metadata": {},
   "source": [
    "# Clases\n",
    "\n",
    "Las clases son el nucleo de la llamada *programación orientada a objetos*, este tipo de programación se usa para representar objetos que contienen *atributos* (variables) y *métodos* (funciones). \n",
    "\n",
    "La sintaxis para definir una clase es `class Mi_clase:` seguido del código de la clase indentado. Este código suele contener la definición de sus métodos:\n",
    "\n",
    "* El primer argumento de todos los métodos de ser `self` que es una auto-referncia al propio objeto.\n",
    "* Algunos métodos tienen un significado especial, por ejemplo: \n",
    "   * `__init__`: Método ejecutado en la creación del objeto, a este método se le llama constructor\n",
    "   * `__str__` : Método ejecutado para convertir el objeto en un texto, por ejemplo cuando se pasa el objeto como argumento de la función `print`\n",
    "   "
   ]
  },
  {
   "cell_type": "code",
   "execution_count": 37,
   "metadata": {},
   "outputs": [],
   "source": [
    "# Ejemplo de clase\n"
   ]
  },
  {
   "cell_type": "markdown",
   "metadata": {},
   "source": [
    "Para crear los objetos usamos el nombre de la clase como si fuera una función, las nombres de las clases suelen comenzar por mayúsculas"
   ]
  },
  {
   "cell_type": "code",
   "execution_count": 38,
   "metadata": {},
   "outputs": [],
   "source": [
    "# Ejemplo de creación y uso de objetos de una clase\n"
   ]
  },
  {
   "cell_type": "markdown",
   "metadata": {},
   "source": [
    "## Ejercicio 2:\n",
    "__Funciones__\n",
    "\n",
    "Dada la siguiente descripción de un muro:\n",
    "\n",
    "| Capa | e (cm) | k (W/m·K) |\n",
    "|----------|----------|----------|\n",
    "| Ladrillo visto perforado  | 11.5   | 1.30   |\n",
    "| Poliuretano expandido  | 4.0   | 0.03   |\n",
    "| Ladrillo hueco   | 4.0   | 0.40   |\n",
    "| Enlucido de yeso   | 1.5   | 0.57   |\n",
    "\n",
    "Crear una lista de diccionarios con un diccionario para cada capa.\n",
    "\n",
    "Crear una función \"calcular_U\" que devuelva el U recibiendo como argumento la lista de capas.\n",
    "Suponga que los h interiores y exteriores son 7 y 25 W/m^2^K respectivamente.\n",
    "\n",
    "$U =  \\frac{1} {(1/h_i) + (1/h_e) + \\Sigma e_i / k_i} $\n",
    "\n"
   ]
  },
  {
   "cell_type": "code",
   "execution_count": 39,
   "metadata": {},
   "outputs": [],
   "source": [
    "# Resolver el ejercicio:\n"
   ]
  },
  {
   "cell_type": "markdown",
   "metadata": {},
   "source": [
    "## Ejercicio 3:  \n",
    "__Fibonacci__\n",
    "\n",
    "La secuencia de Fibonacci es una sucesión de números en la que el número siguiente es la suma de los dos anteriores. La secuencia tiene este aspecto: 1, 1, 2, 3, 5, 8, 13. Escribe una función que genere un número dado de elementos de la sucesión de Fibonacci."
   ]
  },
  {
   "cell_type": "code",
   "execution_count": 40,
   "metadata": {},
   "outputs": [],
   "source": [
    "# Resolver el ejercicio:\n"
   ]
  }
 ],
 "metadata": {
  "kernelspec": {
   "display_name": "Python 3 (ipykernel)",
   "language": "python",
   "name": "python3"
  },
  "language_info": {
   "codemirror_mode": {
    "name": "ipython",
    "version": 3
   },
   "file_extension": ".py",
   "mimetype": "text/x-python",
   "name": "python",
   "nbconvert_exporter": "python",
   "pygments_lexer": "ipython3",
   "version": "3.12.5"
  },
  "toc-autonumbering": false,
  "toc-showcode": false,
  "toc-showmarkdowntxt": false,
  "toc-showtags": false,
  "varInspector": {
   "cols": {
    "lenName": 16,
    "lenType": 16,
    "lenVar": 40
   },
   "kernels_config": {
    "python": {
     "delete_cmd_postfix": "",
     "delete_cmd_prefix": "del ",
     "library": "var_list.py",
     "varRefreshCmd": "print(var_dic_list())"
    },
    "r": {
     "delete_cmd_postfix": ") ",
     "delete_cmd_prefix": "rm(",
     "library": "var_list.r",
     "varRefreshCmd": "cat(var_dic_list()) "
    }
   },
   "types_to_exclude": [
    "module",
    "function",
    "builtin_function_or_method",
    "instance",
    "_Feature"
   ],
   "window_display": false
  }
 },
 "nbformat": 4,
 "nbformat_minor": 4
}
