{
 "cells": [
  {
   "cell_type": "markdown",
   "metadata": {},
   "source": [
    "__Curso Python (Iniciación a Python para Ingenieros)__\n",
    "\n",
    "_© Juan F. Coronel Toro, 2025_"
   ]
  },
  {
   "cell_type": "markdown",
   "metadata": {},
   "source": [
    "# 2. Paquetes (Numpy, Matplotlib y Pandas)\n",
    "## 2.1. Paquetes y Módulos en Python\n",
    "\n",
    "Python tiene una gran cantidad de bibliotecas disponibles, comúnmente citada como una de las mayores fortalezas de Python, que proporciona herramientas adecuadas para muchas tareas.\n",
    "\n",
    "El repositorio oficial de software de terceros para Python (Pypi) contiene más de 600.000 paquetes.\n",
    "\n",
    "Los módulos son archivos (`*.py`) que contienen código Python, como funciones, clases o variables. Mientras que los paquetes son carpetas que contienen un conjunto de módulos. Los paquetes son una forma de estructurar el espacio de nombres de los módulos, permitiendo una mejor organización y reutilización del código, especialmente en proyectos grandes. "
   ]
  },
  {
   "cell_type": "markdown",
   "metadata": {},
   "source": [
    "### 2.1.1. Módulos incluidos en Python\n",
    "\n",
    "Python cuenta con algunos módulos que ya vienen incluidos en el propio lenguaje (por ejemplo math) \n",
    "\n",
    "Para usar un módulo, tienes que *importarlo* usando el comando `import`.\n",
    "\n",
    "A partir de ese instante puedes utilizarlo en el código utilizando su nombre como prefijo."
   ]
  },
  {
   "cell_type": "code",
   "execution_count": null,
   "metadata": {},
   "outputs": [],
   "source": [
    "# Ejemplo importación de módulo math\n"
   ]
  },
  {
   "cell_type": "markdown",
   "metadata": {},
   "source": [
    "Para explorar la función y otros contenidos del módulo/biblioteca:\n",
    "\n",
    "- Utiliza la documentación web (por ejemplo, para la librería `math` <a href=\"https://docs.python.org/3/library/math.html\">Doc para Python 3</a>)\n",
    "- Utiliza la función `help` incluida en python."
   ]
  },
  {
   "cell_type": "code",
   "execution_count": null,
   "metadata": {},
   "outputs": [],
   "source": [
    "# Ejemplo de uso de la función help\n"
   ]
  },
  {
   "cell_type": "markdown",
   "metadata": {},
   "source": [
    "podemos dar un alias al paquete/módulo usando `import xxxxx as xx`"
   ]
  },
  {
   "cell_type": "code",
   "execution_count": null,
   "metadata": {},
   "outputs": [],
   "source": [
    "# Ejemplo de alias de módulo\n"
   ]
  },
  {
   "cell_type": "markdown",
   "metadata": {},
   "source": [
    "También podemos importar sólo algunas variables, funciones o clases concretas con `from paquete import constant1, function1`, después podemos usar directamente `constant1`, `function1` dentro del código."
   ]
  },
  {
   "cell_type": "code",
   "execution_count": null,
   "metadata": {},
   "outputs": [],
   "source": [
    "# Ejemplo de importación funciones o variables de un módulo\n"
   ]
  },
  {
   "cell_type": "markdown",
   "metadata": {},
   "source": [
    "\n",
    "### 2.1.2. Instalar paquetes\n",
    "\n",
    "Python también dispone de muchos paquetes que no vienen con el propio lenguaje, la biblioteca oficial de los paquetes de python puedes encontrarla en [pypi](https://pypi.org/)\n",
    "\n",
    "Para ver los paquetes que tenemos instalados podemos usar \"pip list\" en el terminal o \"%pip list\" en Jupyter\n",
    "\n",
    "Podemos arrancar un terminal usando el menú File -> New -> Terminal\n",
    "\n",
    "El UI Mode (Modo de la interfaz de usuario) por defecto de Jupyterlab es *Zen Mode*, pero para ver las pestañas de los archivos abiertos podemos usar *Multi document IDE*, este menú podemos encintralo en el botón de 3 reyitas que aparece a la derecha de la barra superior de la aplicación."
   ]
  },
  {
   "cell_type": "code",
   "execution_count": null,
   "metadata": {},
   "outputs": [],
   "source": [
    "# Ejecutar pip list desde un terminal y desde JupyterLab\n"
   ]
  },
  {
   "cell_type": "markdown",
   "metadata": {},
   "source": [
    "### 2.1.3. Módulos de usuario\n",
    "\n",
    "Para reutilizar partes de su código, a menudo es eficiente escribir tus propios módulos para las funciones utilizadas con frecuencia. \n",
    "\n",
    "La *importación* del módulo es la misma que para otras bibliotecas, con la diferencia de que tiene que existir en el mismo directorio el archivo `nombre_modulo.py`\n",
    "\n",
    "En nuestro ejemplo, vamos a crear un fichero llamado `funciones.py`, que contrendrá la función `cuadrado` y los vamos a importar y usar en Jupyter"
   ]
  },
  {
   "cell_type": "code",
   "execution_count": null,
   "metadata": {},
   "outputs": [],
   "source": [
    "# Ejemplo de importación de módulos própios\n"
   ]
  },
  {
   "cell_type": "markdown",
   "metadata": {},
   "source": [
    "## 2.2. Numpy and Matplotlib\n",
    "\n",
    "**Numpy** es un paquete de cálculo numérico y álgebra ampliamente utilizado, que proporciona el tipo *array* (`ndarray`) utilizado en casi todos los proyectos numéricos. Numpy está compilado en C y su velocidad de ejecución es mucho mayor que con Python puro. [Documentación](https://numpy.org).\n",
    "\n",
    "**Matplotlib** es un módulo para generar gráficos 2D y 3D. [Documentación](https://matplotlib.org) \n",
    "\n",
    "Es común importarlos con los respectivos alias **np** y **plt** (para `matplotlib.pyplot`)."
   ]
  },
  {
   "cell_type": "code",
   "execution_count": null,
   "metadata": {},
   "outputs": [],
   "source": [
    "# importar numpy y matplotlib\n"
   ]
  },
  {
   "cell_type": "markdown",
   "metadata": {},
   "source": [
    "### 2.2.1. Numpy *arrays*\n",
    "\n",
    "En Numpy, el tipo *array* se utiliza para vectores, matrices y matrices multidimensionales.\n",
    "\n",
    "Los arrays de Numpy se pueden definir directamente a partir de una lista o mediante una función.\n",
    "\n",
    "#### Arrays unidimensionales\n",
    "\n",
    "Por defecto todos los elementos que contiene son `float64`, se puede cambiar usando la propiedad dtype pero todos deben ser del mismo tipo.\n"
   ]
  },
  {
   "cell_type": "code",
   "execution_count": null,
   "metadata": {},
   "outputs": [],
   "source": [
    "# Ejemplo de array creado con una lista\n"
   ]
  },
  {
   "cell_type": "markdown",
   "metadata": {},
   "source": [
    "Funciones para la generación automática de arrays:\n",
    "- `zeros(n)`: Array de n ceros\n",
    "- `ones(n)`: Array de n unos\n",
    "- `arange(n)`: Array simular a la función `range`\n",
    "- `empty(n)`: Array de n elementos vacios\n",
    "- `linspace(ini,fin,num)`: Array de números espaciados uniformemente\n",
    "- `ramdon.rand(n)`: Array de n elementos aleatorios entre 0 y 1\n",
    "- etc."
   ]
  },
  {
   "cell_type": "code",
   "execution_count": null,
   "metadata": {},
   "outputs": [],
   "source": [
    "# Ejemplo de uso de funciones para crear arrays\n"
   ]
  },
  {
   "cell_type": "markdown",
   "metadata": {},
   "source": [
    "## 2.2.2. Gráficas matplotlib\n",
    "\n",
    "Existen varias formas de crear las gráficas con matplotlib, pero una de las formas más sencillas es usando matplotlib.pyplot (que suele nombrarse como `plt`)\n",
    "\n",
    "* Inicializar una figura con `plt.figure()`.\n",
    "* Trazar algo con ... `plt.plot` (ver la [documentación](https://matplotlib.org) )\n",
    "* Fijar etiquetas, títulos, ejes\n",
    "* Mostrar la figura con `plt.show()`."
   ]
  },
  {
   "cell_type": "code",
   "execution_count": null,
   "metadata": {},
   "outputs": [],
   "source": [
    "# Ejemplo de gráfica\n"
   ]
  },
  {
   "cell_type": "markdown",
   "metadata": {},
   "source": [
    "### 2.2.3. Matrices\n",
    "\n",
    "Las matrices son simplemente arrays 2D. Dado que los vectores y las matrices comparten el mismo tipo, la noción de *shape* es muy importante.\n",
    "\n",
    "El `size` de un array es el número de elementos, mientras que el `shape` indica cómo están dispuestos."
   ]
  },
  {
   "cell_type": "code",
   "execution_count": null,
   "metadata": {},
   "outputs": [],
   "source": [
    "# Ejemplo de matriz\n"
   ]
  },
  {
   "cell_type": "markdown",
   "metadata": {},
   "source": [
    "El acceso, asignación, tipo, copia es común y similar al tipo lista."
   ]
  },
  {
   "cell_type": "code",
   "execution_count": null,
   "metadata": {},
   "outputs": [],
   "source": [
    "# Ejemplo de trabajor con np.array 1D \n"
   ]
  },
  {
   "cell_type": "code",
   "execution_count": null,
   "metadata": {},
   "outputs": [],
   "source": [
    "# Ejemplo de trabajo con np.array 2D\n",
    "\n"
   ]
  },
  {
   "cell_type": "markdown",
   "metadata": {},
   "source": [
    "### Filtrado\n",
    "podemos poner condiciones para filtrar los arrays, incluyendolas dentro del `[ ]`"
   ]
  },
  {
   "cell_type": "code",
   "execution_count": null,
   "metadata": {},
   "outputs": [],
   "source": [
    "# Ejemplo de filtrado de arrays\n"
   ]
  },
  {
   "cell_type": "markdown",
   "metadata": {},
   "source": [
    "### Operaciones con Numpy arrays\n"
   ]
  },
  {
   "cell_type": "code",
   "execution_count": null,
   "metadata": {},
   "outputs": [],
   "source": [
    "# Ejemplos de operaciones con np.array\n"
   ]
  },
  {
   "cell_type": "code",
   "execution_count": null,
   "metadata": {},
   "outputs": [],
   "source": [
    "# Ejemplo de gráfica con varias series\n",
    "\n"
   ]
  },
  {
   "cell_type": "markdown",
   "metadata": {},
   "source": [
    "### Algebra lineal con matrices (numpy.linalg)\n",
    "\n",
    "Numpy viene con un eficiente módulo de álgebra lineal llamado `linalg` (ver la [documentación](https://numpy.org/doc/stable/reference/routines.linalg.html)).\n",
    "\n",
    "A modo de ejemplo veamos como __resolver ecuaciones e invertir matrices__"
   ]
  },
  {
   "cell_type": "code",
   "execution_count": null,
   "metadata": {},
   "outputs": [],
   "source": [
    "# Ejemplo de resolución de ecuaciones lineales\n"
   ]
  },
  {
   "cell_type": "code",
   "execution_count": null,
   "metadata": {},
   "outputs": [],
   "source": [
    "# Ejemplo de cálculo de la matriz inversa\n"
   ]
  },
  {
   "cell_type": "markdown",
   "metadata": {},
   "source": [
    "## Ejercicio 1:\n",
    "\n",
    "El siguiente código genera 30 puntos de x e y.\n",
    "\n",
    "- Usando la función numpy.polyfit realizar una regresión polinomial de orden 3\n",
    "- Dibujar la función polinomial junto con los puntos anteriores\n",
    "- Calcular el [error cuadrático medio](https://es.wikipedia.org/wiki/Error_cuadr%C3%A1tico_medio) cometido en la aproximación\n",
    "- Hacer lo anterior para orden 4, 5 y 6."
   ]
  },
  {
   "cell_type": "code",
   "execution_count": null,
   "metadata": {},
   "outputs": [],
   "source": [
    "n = 30 \n",
    "x = (np.random.rand(n)-0.5)*6\n",
    "y = np.sign(x)*np.maximum(np.abs(x)-1.0,0.0)\n",
    "plt.scatter(x,y)"
   ]
  },
  {
   "cell_type": "code",
   "execution_count": null,
   "metadata": {},
   "outputs": [],
   "source": [
    "# Solución del ejercicio 1\n"
   ]
  },
  {
   "cell_type": "markdown",
   "metadata": {},
   "source": [
    "## 2.3. Pandas\n",
    "\n",
    "Pandas es un paquete construido sobre NumPy que proporciona una implementación eficiente de **DataFrames**. Los DataFrames son esencialmente tablas con etiquetas de fila y columna adjuntas, y a menudo con tipos heterogéneos y/o datos perdidos. Además de ofrecer una cómoda interfaz de almacenamiento para datos etiquetados, Pandas implementa una serie de potentes operaciones de datos.\n",
    "\n",
    "Así como generalmente importamos NumPy bajo el alias ``np``, importaremos Pandas bajo el alias ``pd``."
   ]
  },
  {
   "cell_type": "code",
   "execution_count": null,
   "metadata": {},
   "outputs": [],
   "source": [
    "import pandas as pd"
   ]
  },
  {
   "cell_type": "markdown",
   "metadata": {},
   "source": [
    "### 2.3.1. Pandas Series\n",
    "\n",
    "\n",
    "Una `Series` Pandas es un array unidimensional de datos indexados (una columna de la tabla)\n",
    "\n",
    "Se puede acceder al contenido de la misma forma que para los arrays NumPy, con la diferencia de que cuando se selecciona más de un valor, el tipo sigue siendo un Pandas ``Series``.\n"
   ]
  },
  {
   "cell_type": "code",
   "execution_count": null,
   "metadata": {},
   "outputs": [],
   "source": [
    "# Ejemplo de serie\n"
   ]
  },
  {
   "cell_type": "markdown",
   "metadata": {},
   "source": [
    "El tipo ``Series`` contiene tanto una secuencia de valores como una secuencia de índices, a los que podemos acceder con los atributos `values` e `index`. \n",
    "\n",
    "* ``values`` son los valores en forma de array de Numpy\n",
    "\n",
    "* ``index`` son los índices de la serie\n"
   ]
  },
  {
   "cell_type": "code",
   "execution_count": null,
   "metadata": {},
   "outputs": [],
   "source": [
    "\n"
   ]
  },
  {
   "cell_type": "markdown",
   "metadata": {},
   "source": [
    "### Índices de las series\n",
    "\n",
    "La principal diferencia entre los arrays de NumPy y las Series de Pandas es la presencia de este campo `index`. Por defecto, se establece (como en los arrays de NumPy) como `0,1,...,tamaño_de_la_serie` pero se puede definir explícitamente un índice de Serie diferente. Los índices pueden ser números pero también cadenas. Entonces, el contenido de la serie debe ser accedido usando estos índices definidos.\n"
   ]
  },
  {
   "cell_type": "code",
   "execution_count": null,
   "metadata": {},
   "outputs": [],
   "source": [
    "# Ejemplo de serie con letras como índices\n"
   ]
  },
  {
   "cell_type": "markdown",
   "metadata": {},
   "source": [
    "### Series y diccionarios Python \n",
    "\n",
    "Las series de Pandas y los diccionarios de Python son cercanos semánticamente: mapear claves a valores. Sin embargo, la implementación de series en Pandas suele ser más eficiente que la de diccionarios en el contexto de la ciencia de datos. Naturalmente, las series se pueden construir a partir de diccionarios."
   ]
  },
  {
   "cell_type": "code",
   "execution_count": null,
   "metadata": {},
   "outputs": [],
   "source": [
    "# Ejemplo de serie creada con un diccionario\n"
   ]
  },
  {
   "cell_type": "markdown",
   "metadata": {},
   "source": [
    "### 2.3.2. Pandas DataFrames\n",
    "\n",
    "DataFrames es el objeto fundamental de Pandas. Los Dataframes se pueden ver como un conjunto de Series, osea una tabla de datos.\n",
    "\n",
    "Cada `índice` es una línea de la tabla, para la que tenemos varias `columnas`con diferentes nombres."
   ]
  },
  {
   "cell_type": "markdown",
   "metadata": {},
   "source": [
    "#### Creación de Dataframes\n",
    "\n",
    "Para crear DataFrame se pueden usar las siguientes opciones:\n",
    "* Usando Series\n",
    "* Usando Matrices de np.array (las columnas e índices se toman: 0,1,2,...)\n",
    "* A partir de una *lista* de *diccionarios*. Cuidado, cada elemento de la lista es una fila (correspondiente a los índices 0,1,...) mientras que cada clave del diccionario corresponde a una columna.\n",
    "* Desde un *archivo* , típicamente un archivo __csv__ (para valores separados por comas) o de otros tipos (por ejemplo excel) \n"
   ]
  },
  {
   "cell_type": "code",
   "execution_count": null,
   "metadata": {},
   "outputs": [],
   "source": [
    "# Ejemplo de creación de DataFrame con series\n",
    "\n"
   ]
  },
  {
   "cell_type": "markdown",
   "metadata": {},
   "source": [
    "En los cuadernos Jupyter, los DataFrames se muestran de una forma más elegante (formato html) cuando se escribe el nombre del dataframe (en lugar de utilizar `print`)"
   ]
  },
  {
   "cell_type": "code",
   "execution_count": null,
   "metadata": {},
   "outputs": [],
   "source": [
    "# Ejemplo de visualización de DataFrame en Jupyter\n"
   ]
  },
  {
   "cell_type": "markdown",
   "metadata": {},
   "source": [
    "Los DataFrames tienen:\n",
    "* index: que son los índices definidos como en Series\n",
    "* columns: que son los nombres de las columnas\n",
    "* values: que devuelven un array NumPy (2D) con los contenidos"
   ]
  },
  {
   "cell_type": "code",
   "execution_count": null,
   "metadata": {},
   "outputs": [],
   "source": []
  },
  {
   "cell_type": "markdown",
   "metadata": {},
   "source": [
    "*Atención:* Al acceder a un Dataframe, `dataframe_name[nombre_columna]` devuelve la columna correspondiente como Serie.`dataframe_name[indice]` devuelve un error. Veremos más adelante cómo acceder a un índice específico."
   ]
  },
  {
   "cell_type": "code",
   "execution_count": null,
   "metadata": {},
   "outputs": [],
   "source": [
    "# Ejemplo de acceso a cada serie de DataFrame\n"
   ]
  },
  {
   "cell_type": "code",
   "execution_count": null,
   "metadata": {},
   "outputs": [],
   "source": [
    "# Ejemplo de creación de DataFrame usando numpy arrays aleatorios\n"
   ]
  },
  {
   "cell_type": "code",
   "execution_count": null,
   "metadata": {},
   "outputs": [],
   "source": [
    "# Cambio de nombres de columnas y de índices\n"
   ]
  },
  {
   "cell_type": "code",
   "execution_count": null,
   "metadata": {},
   "outputs": [],
   "source": [
    "# Creación de DataFrame usando una lista de diccionarios\n"
   ]
  },
  {
   "cell_type": "markdown",
   "metadata": {},
   "source": [
    "## Archivo Excel\n",
    "\n",
    "Para poder leer con Pandas de excel tenemos que intalar un paquete llamado _openpyxl_, para ello o usamos el terminal o `%pip install openpyxl`\n",
    "funcion read_excel\n"
   ]
  },
  {
   "cell_type": "code",
   "execution_count": null,
   "metadata": {},
   "outputs": [],
   "source": [
    "# Instalar el paquete openpyxl\n"
   ]
  },
  {
   "cell_type": "code",
   "execution_count": null,
   "metadata": {},
   "outputs": [],
   "source": [
    "# Ejemplo de lectura de una archivo excel\n"
   ]
  },
  {
   "cell_type": "markdown",
   "metadata": {},
   "source": [
    "Lectura desde un archivo csv con el siguiente formato:\n",
    "\n",
    "    col_1_nombre,col_2_nombre,col_3_nombre\n",
    "    col_1_v1,col_2_v1,col_3_v1\n",
    "    col_1_v2,col_2_v2,col_3_v2\n",
    "    ...\n"
   ]
  },
  {
   "cell_type": "code",
   "execution_count": null,
   "metadata": {},
   "outputs": [],
   "source": [
    "# Ejemplo de lectura de archivo csv\n"
   ]
  },
  {
   "cell_type": "code",
   "execution_count": null,
   "metadata": {},
   "outputs": [],
   "source": [
    "# Para ver las primeras líneas usamos la función head(n)\n"
   ]
  },
  {
   "cell_type": "markdown",
   "metadata": {},
   "source": [
    "### Accediendo a DataFrames\n",
    "\n",
    "Obteniendo subconjuntos de nuestro DataFrame\n",
    "Para acceder a filas completas Pandas incluye las siguientes funciones:\n",
    "\n",
    "* iloc: Usando los índices por defecto, como si fuera numpy\n",
    "* loc: Usado índices propios."
   ]
  },
  {
   "cell_type": "code",
   "execution_count": null,
   "metadata": {},
   "outputs": [],
   "source": [
    "# Ejemplo de acceso a columnas, elementos, filas\n",
    "\n"
   ]
  },
  {
   "cell_type": "code",
   "execution_count": null,
   "metadata": {},
   "outputs": [],
   "source": [
    "# Ejemplo de acceso a las 12 primeras filas\n"
   ]
  },
  {
   "cell_type": "code",
   "execution_count": null,
   "metadata": {},
   "outputs": [],
   "source": [
    "# acceso algunas columnas de las 12 primeras filas\n"
   ]
  },
  {
   "cell_type": "markdown",
   "metadata": {},
   "source": [
    "### Operaciones con DataFrames\n",
    "\n",
    "Podemos aplicar operaciones/funciones tipo Numpy a los DataFrames\n"
   ]
  },
  {
   "cell_type": "code",
   "execution_count": null,
   "metadata": {},
   "outputs": [],
   "source": [
    "# DataFrame A\n"
   ]
  },
  {
   "cell_type": "code",
   "execution_count": null,
   "metadata": {},
   "outputs": [],
   "source": [
    "# Ejemplo de operación con DataFrame\n"
   ]
  },
  {
   "cell_type": "code",
   "execution_count": null,
   "metadata": {},
   "outputs": [],
   "source": [
    "# Ejemplo de suma\n"
   ]
  },
  {
   "cell_type": "markdown",
   "metadata": {},
   "source": [
    "Operaciones con columnass:"
   ]
  },
  {
   "cell_type": "code",
   "execution_count": null,
   "metadata": {},
   "outputs": [],
   "source": [
    "# Crear una nueva columna operando con columnas\n"
   ]
  },
  {
   "cell_type": "code",
   "execution_count": null,
   "metadata": {},
   "outputs": [],
   "source": [
    "# Otro ejemplo de operaciones con coulmnas\n"
   ]
  },
  {
   "cell_type": "markdown",
   "metadata": {},
   "source": [
    "La función apply permite aplicarle cualquier función a una columna"
   ]
  },
  {
   "cell_type": "code",
   "execution_count": null,
   "metadata": {},
   "outputs": [],
   "source": [
    "# Ejemplo de uso de la función apply\n",
    "\n"
   ]
  },
  {
   "cell_type": "markdown",
   "metadata": {},
   "source": [
    "###  Estadísticas básicas\n",
    "\n",
    "La función `describe`dá los valores estadísticos básicos"
   ]
  },
  {
   "cell_type": "code",
   "execution_count": null,
   "metadata": {},
   "outputs": [],
   "source": []
  },
  {
   "cell_type": "code",
   "execution_count": null,
   "metadata": {},
   "outputs": [],
   "source": [
    "# Cada una de las series pueden aplicarse multiples funciones muy similares a las np.array\n"
   ]
  },
  {
   "cell_type": "markdown",
   "metadata": {},
   "source": [
    "### Agrupaciones\n",
    "\n",
    "para agrupar podemos usar la función groupby()\n"
   ]
  },
  {
   "cell_type": "code",
   "execution_count": null,
   "metadata": {},
   "outputs": [],
   "source": []
  },
  {
   "cell_type": "markdown",
   "metadata": {},
   "source": [
    "### Filtrado\n",
    "\n",
    "Filtrado es la selección de valores que cumplan determinadas condiciones"
   ]
  },
  {
   "cell_type": "code",
   "execution_count": null,
   "metadata": {},
   "outputs": [],
   "source": [
    "# Ejemplo de Filtrado al estilo np.array\n"
   ]
  },
  {
   "cell_type": "code",
   "execution_count": null,
   "metadata": {},
   "outputs": [],
   "source": [
    "# Ejemplo de filtrado con la funcion query\n"
   ]
  },
  {
   "cell_type": "markdown",
   "metadata": {},
   "source": [
    "### Usando Matplolib con pandas\n",
    "\n",
    "Matplotlib se integra perfectamente con Pandas"
   ]
  },
  {
   "cell_type": "code",
   "execution_count": null,
   "metadata": {},
   "outputs": [],
   "source": [
    "# Ejemplo de creación de una fila con la fecha con pd.date_range\n"
   ]
  },
  {
   "cell_type": "code",
   "execution_count": null,
   "metadata": {},
   "outputs": [],
   "source": [
    "# Ejemplo de uso de la función plot de los DataFrame\n"
   ]
  },
  {
   "cell_type": "code",
   "execution_count": null,
   "metadata": {},
   "outputs": [],
   "source": [
    "# Ejemplo de uso de plt con series de Pandas\n"
   ]
  },
  {
   "cell_type": "code",
   "execution_count": null,
   "metadata": {},
   "outputs": [],
   "source": [
    "# Ejemplo de histogramas\n"
   ]
  },
  {
   "cell_type": "code",
   "execution_count": null,
   "metadata": {},
   "outputs": [],
   "source": [
    "# Ejemplo de curva de frecuencia acumulada\n"
   ]
  },
  {
   "cell_type": "markdown",
   "metadata": {},
   "source": [
    "### Uso del paquete plotly\n",
    "\n",
    "plotly es un paquete que crea gráficas dinámicas a las que podemos hacer zoom, y otras acciones."
   ]
  },
  {
   "cell_type": "code",
   "execution_count": null,
   "metadata": {},
   "outputs": [],
   "source": [
    "# Ejemplo de uso de plotly\n"
   ]
  },
  {
   "cell_type": "markdown",
   "metadata": {},
   "source": [
    "## Ejercicio 2:\n",
    "\n",
    "El fichero titanic.csv contiene información sobre los pasajeros del Titanic. Escribir un programa con los siguientes requisitos:\n",
    "\n",
    "1. Generar un DataFrame con los datos del fichero usando como índice la primera columna (PassengerId).\n",
    "2. Mostrar por pantalla las dimensiones del DataFrame, el número de datos que contiene, los nombres de sus columnas y filas, los tipos de datos de las columnas, las 10 primeras filas y las 10 últimas filas.\n",
    "3. Mostrar por pantalla los datos del pasajero con identificador 148.\n",
    "4. Mostrar por pantalla los nombres de las personas que iban en primera clase ordenadas alfabéticamente.\n",
    "5. Mostrar por pantalla el porcentaje de personas que sobrevivieron y murieron.\n",
    "5. Mostrar por pantalla el porcentaje de personas que sobrevivieron en cada clase.\n",
    "6. Eliminar del DataFrame los pasajeros con edad desconocida.\n",
    "7. Mostrar por pantalla la edad media de las mujeres que viajaban en cada clase.\n",
    "8.  Añadir una nueva columna booleana para ver si el pasajero era menor de edad o no.\n",
    "9.  Mostrar por pantalla el porcentaje de menores y mayores de edad que sobrevivieron en cada clase.\n",
    "10.  Dibujar un gráfico de frecuencia acumulada con la edad de los pasajeros."
   ]
  },
  {
   "cell_type": "code",
   "execution_count": null,
   "metadata": {},
   "outputs": [],
   "source": [
    "# Solución:\n"
   ]
  },
  {
   "cell_type": "code",
   "execution_count": null,
   "metadata": {},
   "outputs": [],
   "source": []
  }
 ],
 "metadata": {
  "kernelspec": {
   "display_name": "Python 3 (ipykernel)",
   "language": "python",
   "name": "python3"
  },
  "language_info": {
   "codemirror_mode": {
    "name": "ipython",
    "version": 3
   },
   "file_extension": ".py",
   "mimetype": "text/x-python",
   "name": "python",
   "nbconvert_exporter": "python",
   "pygments_lexer": "ipython3",
   "version": "3.12.5"
  },
  "varInspector": {
   "cols": {
    "lenName": 16,
    "lenType": 16,
    "lenVar": 40
   },
   "kernels_config": {
    "python": {
     "delete_cmd_postfix": "",
     "delete_cmd_prefix": "del ",
     "library": "var_list.py",
     "varRefreshCmd": "print(var_dic_list())"
    },
    "r": {
     "delete_cmd_postfix": ") ",
     "delete_cmd_prefix": "rm(",
     "library": "var_list.r",
     "varRefreshCmd": "cat(var_dic_list()) "
    }
   },
   "types_to_exclude": [
    "module",
    "function",
    "builtin_function_or_method",
    "instance",
    "_Feature"
   ],
   "window_display": false
  }
 },
 "nbformat": 4,
 "nbformat_minor": 4
}
